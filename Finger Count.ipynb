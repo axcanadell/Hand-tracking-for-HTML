{
 "cells": [
  {
   "cell_type": "code",
   "execution_count": null,
   "id": "6bcc1f09-735f-4b89-8b63-890c2e677274",
   "metadata": {},
   "outputs": [],
   "source": []
  },
  {
   "cell_type": "code",
   "execution_count": 1,
   "id": "ac8b9d7f-1483-49c9-92b7-99041dad1924",
   "metadata": {},
   "outputs": [],
   "source": [
    "import numpy as np\n",
    "import math\n",
    "import cv2 as cv"
   ]
  },
  {
   "cell_type": "code",
   "execution_count": 2,
   "id": "00f717f0-9c2c-4c80-83f9-0fdb8846b3d1",
   "metadata": {},
   "outputs": [],
   "source": [
    "#Loop through every frame until we close the webcam\n",
    "cap = cv.VideoCapture(0)\n",
    "while cap.isOpened():\n",
    "    ret, img = cap.read()\n",
    "    #cv.rectangle(img, (300, 300), (100, 100), (0, 255, 0), 0)\n",
    "    grey = cv.cvtColor(img, cv.COLOR_BGR2GRAY)\n",
    "    value = (35, 35)\n",
    "    blurred_ = cv.GaussianBlur(grey, value, 0)\n",
    "    _, thresholded = cv.threshold(blurred_, 127, 255, cv.THRESH_BINARY_INV + cv.THRESH_OTSU)\n",
    "    contours, hierarchy = cv.findContours(thresholded.copy(), cv.RETR_TREE, cv.CHAIN_APPROX_NONE)\n",
    "    count1 = max(contours, key=lambda x: cv.contourArea(x))\n",
    "    x, y, w, h = cv.boundingRect(count1)\n",
    "    cv.rectangle(img, (x, y), (x + w, y + h), (0, 0, 255), 0)\n",
    "    hull = cv.convexHull(count1)\n",
    "    drawing = np.zeros(img.shape, np.uint8)\n",
    "    cv.drawContours(drawing, [count1], 0, (0, 255, 0), 0)\n",
    "    cv.drawContours(drawing, [hull], 0, (0, 0, 255), 0)\n",
    "    hull = cv.convexHull(count1, returnPoints=False)\n",
    "    defects = cv.convexityDefects(count1, hull)\n",
    "    count_defects = 0\n",
    "    cv.drawContours(thresholded, contours, -1, (0, 255, 0), 3)\n",
    "    \n",
    "    for i in range(defects.shape[0]):\n",
    "        s, e, f, d = defects[i, 0]\n",
    "        start = tuple(count1[s][0])\n",
    "        end = tuple(count1[e][0])\n",
    "        far = tuple(count1[f][0])\n",
    "        a = math.sqrt((end[0] - start[0]) ** 2 + (end[1] - start[1]) ** 2)\n",
    "        b = math.sqrt((far[0] - start[0]) ** 2 + (far[1] - start[1]) ** 2)\n",
    "        c = math.sqrt((end[0] - far[0]) ** 2 + (end[1] - far[1]) ** 2)\n",
    "        angle = math.acos((b ** 2 + c ** 2 - a ** 2) / (2 * b * c)) * 57\n",
    "    \n",
    "        if angle <= 90:\n",
    "            count_defects += 0\n",
    "            cv.circle(img, far, 1, [0, 0, 255], -1)\n",
    "    \n",
    "        cv.line(img, start, end, [0, 255, 0], 2)\n",
    "    \n",
    "    if count_defects == 1:\n",
    "        cv.putText(img, \"1 fingers\", (50, 50), cv.FONT_HERSHEY_SIMPLEX, 2, (0, 0, 255))\n",
    "    elif count_defects == 2:\n",
    "        cv.putText(img, \"2 fingers\", (50, 50), cv.FONT_HERSHEY_SIMPLEX, 2, (0, 0, 255))\n",
    "    elif count_defects == 3:\n",
    "        cv.putText(img, \"3 fingers\", (50, 50), cv.FONT_HERSHEY_SIMPLEX, 2, (0, 0, 255))\n",
    "    elif count_defects == 4:\n",
    "        cv.putText(img, \"4 fingers\", (50, 50), cv.FONT_HERSHEY_SIMPLEX, 2, (0, 0, 255))\n",
    "    elif count_defects == 5:\n",
    "        cv.putText(img, \"5 fingers\", (50, 50), cv.FONT_HERSHEY_SIMPLEX, 2, (0, 0, 255))\n",
    "    elif count_defects == 0:\n",
    "        cv.putText(img, \"0 fingers\", (50, 50), cv.FONT_HERSHEY_SIMPLEX, 2, (0, 0, 255))\n",
    "\n",
    "    all_img = np.hstack((drawing, img))\n",
    "    cv.imshow('Hola tete', all_img)\n",
    "    #all_img = np.hstack((drawing, img))\n",
    "    #cv.imshow('Contours', all_img)\n",
    "#Break the loop when pressing 'q'\n",
    "    if cv.waitKey(1) & 0xFF == ord(\"q\"):\n",
    "        break\n",
    "cap.release()\n",
    "cv.destroyAllWindows()"
   ]
  },
  {
   "cell_type": "code",
   "execution_count": 3,
   "id": "da250518-19d8-4224-a858-4aee62f94c6e",
   "metadata": {},
   "outputs": [],
   "source": [
    "ret, img = cap.read()\n",
    "cv.rectangle(img, (300, 300), (100, 100), (0, 255, 0), 0)\n",
    "img = img[100:300, 100:300]\n",
    "grey = cv.cvtColor(img, cv.COLOR_BGR2GRAY)\n",
    "value = (35, 35)\n",
    "blurred_ = cv.GaussianBlur(grey, value, 0)\n",
    "_, thresholded = cv.threshold(blurred_, 127, 255, cv.THRESH_BINARY_INV + cv.THRESH_OTSU)"
   ]
  },
  {
   "cell_type": "code",
   "execution_count": 6,
   "id": "f0e25332-332c-4613-a5d3-0880d51b0caf",
   "metadata": {},
   "outputs": [],
   "source": [
    "contours, hierarchy = cv.findContours(thresholded.copy(), cv.RETR_TREE, cv.CHAIN_APPROX_NONE)\n",
    "count1 = max(contours, key=lambda x: cv.contourArea(x))\n",
    "x, y, w, h = cv.boundingRect(count1)\n",
    "cv.rectangle(img, (x, y), (x + w, y + h), (0, 0, 255), 0)\n",
    "hull = cv.convexHull(count1)\n",
    "drawing = np.zeros(img.shape, np.uint8)\n",
    "cv.drawContours(drawing, [count1], 0, (0, 255, 0), 0)\n",
    "cv.drawContours(drawing, [hull], 0, (0, 0, 255), 0)\n",
    "hull = cv.convexHull(count1, returnPoints=False)\n",
    "defects = cv.convexityDefects(count1, hull)"
   ]
  },
  {
   "cell_type": "code",
   "execution_count": 7,
   "id": "ba48c083-684a-4f94-93f9-056d9a55ec70",
   "metadata": {},
   "outputs": [],
   "source": [
    "count_defects = 0\n",
    "cv.drawContours(thresholded, contours, -1, (0, 255, 0), 3)\n",
    "\n",
    "for i in range(defects.shape[0]):\n",
    "    s, e, f, d = defects[i, 0]\n",
    "    start = tuple(count1[s][0])\n",
    "    end = tuple(count1[e][0])\n",
    "    far = tuple(count1[f][0])\n",
    "    a = math.sqrt((end[0] - start[0]) ** 2 + (end[1] - start[1]) ** 2)\n",
    "    b = math.sqrt((far[0] - start[0]) ** 2 + (far[1] - start[1]) ** 2)\n",
    "    c = math.sqrt((end[0] - far[0]) ** 2 + (end[1] - far[1]) ** 2)\n",
    "    angle = math.acos((b ** 2 + c ** 2 - a ** 2) / (2 * b * c)) * 57\n",
    "\n",
    "    if angle <= 90:\n",
    "        count_defects += 1\n",
    "        cv.circle(img, far, 1, [0, 0, 255], -1)\n",
    "\n",
    "    cv.line(img, start, end, [0, 255, 0], 2)\n",
    "\n",
    "if count_defects == 1:\n",
    "    cv.putText(img, \"2 fingers\", (50, 50), cv.FONT_HERSHEY_SIMPLEX, 2, (0, 0, 255))\n",
    "elif count_defects == 2:\n",
    "    str = \"3 fingers\"\n",
    "    cv.putText(img, str, (5, 50), cv.FONT_HERSHEY_SIMPLEX, 1, (0, 0, 255))\n",
    "elif count_defects == 3:\n",
    "    cv.putText(img, \"4 fingers\", (50, 50), cv.FONT_HERSHEY_SIMPLEX, 2, (0, 0, 255))\n",
    "elif count_defects == 4:\n",
    "    cv.putText(img, \"5 fingers\", (50, 50), cv.FONT_HERSHEY_SIMPLEX, 2, (0, 0, 255))\n",
    "elif count_defects == 0:\n",
    "    cv.putText(img, \"one\", (50, 50), cv.FONT_HERSHEY_SIMPLEX, 2, (0, 0, 255))"
   ]
  },
  {
   "cell_type": "code",
   "execution_count": 8,
   "id": "d68cb8a7-d0ef-4642-b012-30e64a97a2e7",
   "metadata": {},
   "outputs": [
    {
     "ename": "SyntaxError",
     "evalue": "'break' outside loop (2547005335.py, line 6)",
     "output_type": "error",
     "traceback": [
      "\u001b[1;36m  Cell \u001b[1;32mIn[8], line 6\u001b[1;36m\u001b[0m\n\u001b[1;33m    break\u001b[0m\n\u001b[1;37m    ^\u001b[0m\n\u001b[1;31mSyntaxError\u001b[0m\u001b[1;31m:\u001b[0m 'break' outside loop\n"
     ]
    }
   ],
   "source": [
    "#Loop through every frame until we close the webcam\n",
    "While cap.isOpened():\n",
    "    ret, frame = cap.read()\n",
    "#Show image\n",
    "        cv.imshow('Hola tete', img)\n",
    "        all_img = np.hstack((drawing, img))\n",
    "        cv.imshow('Contours', all_img)\n"
   ]
  },
  {
   "cell_type": "code",
   "execution_count": null,
   "id": "182f390f-3fea-4c27-89ed-1c4d9297f724",
   "metadata": {},
   "outputs": [],
   "source": []
  }
 ],
 "metadata": {
  "kernelspec": {
   "display_name": "Python 3 (ipykernel)",
   "language": "python",
   "name": "python3"
  },
  "language_info": {
   "codemirror_mode": {
    "name": "ipython",
    "version": 3
   },
   "file_extension": ".py",
   "mimetype": "text/x-python",
   "name": "python",
   "nbconvert_exporter": "python",
   "pygments_lexer": "ipython3",
   "version": "3.11.7"
  }
 },
 "nbformat": 4,
 "nbformat_minor": 5
}
